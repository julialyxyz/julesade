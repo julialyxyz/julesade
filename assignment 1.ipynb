{
 "cells": [
  {
   "cell_type": "code",
   "execution_count": 1,
   "id": "093c22f2-6591-47b7-b0fb-85b49116a997",
   "metadata": {},
   "outputs": [
    {
     "name": "stdout",
     "output_type": "stream",
     "text": [
      "Hello, Python!\n"
     ]
    }
   ],
   "source": [
    "#exercise 1\n",
    "print(\"Hello, Python!\")"
   ]
  },
  {
   "cell_type": "code",
   "execution_count": 98,
   "id": "13deff60-439c-4387-b96d-17a23ac08cdc",
   "metadata": {},
   "outputs": [],
   "source": [
    "#exercise 2\n",
    "def arithmetic(a, b):\n",
    "    print(\"sum:\", a+b)\n",
    "    print(\"difference:\", a-b)\n",
    "    print(\"product:\", a*b)\n",
    "    print(\"quotient:\", a//b)\n",
    "    return"
   ]
  },
  {
   "cell_type": "code",
   "execution_count": 25,
   "id": "f0576216-3852-4abe-8ae1-347ea6ae90b5",
   "metadata": {},
   "outputs": [
    {
     "name": "stdout",
     "output_type": "stream",
     "text": [
      "Hello, julia!\n"
     ]
    }
   ],
   "source": [
    "#exercise 3\n",
    "name = 'julia'\n",
    "print(f\"Hello, {name}!\")"
   ]
  },
  {
   "cell_type": "code",
   "execution_count": 41,
   "id": "66fe7eba-f4a9-4c55-acab-e64088d5a865",
   "metadata": {},
   "outputs": [
    {
     "name": "stdout",
     "output_type": "stream",
     "text": [
      "['HKU', 'CUHK', 'esade', 'LSE', 'IC', 'IE']\n",
      "HKU IE\n"
     ]
    }
   ],
   "source": [
    "#exercise 4\n",
    "universities = ['HKU', 'CUHK', 'esade', 'LSE', 'IC', 'IE']\n",
    "print(universities)\n",
    "print(universities[0], universities[(len(universities)-1)])"
   ]
  },
  {
   "cell_type": "code",
   "execution_count": 45,
   "id": "ac271899-463e-40f2-bad4-2ac4175def32",
   "metadata": {},
   "outputs": [
    {
     "name": "stdout",
     "output_type": "stream",
     "text": [
      "{'name': 'julia', 'age': 23, 'grade': 'A'}\n"
     ]
    }
   ],
   "source": [
    "#exercise 5\n",
    "students = {\"name\":\"julia\", \"age\":23, \"grade\":\"A\"}\n",
    "print(students)"
   ]
  },
  {
   "cell_type": "code",
   "execution_count": 51,
   "id": "c4970ec2-3fea-4153-92d5-f29e6f8302d4",
   "metadata": {},
   "outputs": [
    {
     "name": "stdout",
     "output_type": "stream",
     "text": [
      "2 3\n"
     ]
    }
   ],
   "source": [
    "#exercise 6\n",
    "coordinates = (2,3)\n",
    "print(coordinates[0], coordinates[1])"
   ]
  },
  {
   "cell_type": "code",
   "execution_count": 69,
   "id": "263c3285-c570-4edf-9d81-f0b3dd03b71e",
   "metadata": {},
   "outputs": [
    {
     "name": "stdout",
     "output_type": "stream",
     "text": [
      "{'blue', 'green', 'red', 'pink'}\n",
      "{'green', 'purple', 'red', 'pink', 'yellow'}\n"
     ]
    }
   ],
   "source": [
    "#exercise 7\n",
    "colors = {\"red\", \"green\", \"blue\"}\n",
    "colors.add(\"pink\")\n",
    "colors.add(\"pink\")\n",
    "print(colors)\n",
    "colors.pop()\n",
    "light_colors = {\"yellow\", \"purple\"}\n",
    "all_colors = colors.union(light_colors)"
   ]
  },
  {
   "cell_type": "code",
   "execution_count": 79,
   "id": "b5c63b1b-de69-4386-8f57-178d1d3f917a",
   "metadata": {},
   "outputs": [
    {
     "name": "stdin",
     "output_type": "stream",
     "text": [
      "enter a number: 0\n"
     ]
    },
    {
     "name": "stdout",
     "output_type": "stream",
     "text": [
      "value is zero\n"
     ]
    }
   ],
   "source": [
    "#exericse 8\n",
    "def check(n):\n",
    "    if n == 0:\n",
    "        print(\"value is zero\")\n",
    "    elif n > 0:\n",
    "        print(\"value is positive\")\n",
    "    else:\n",
    "        print(\"value is negative\")\n",
    "    return\n",
    "\n",
    "n = int(input(\"enter a number:\"))\n",
    "check(n)"
   ]
  },
  {
   "cell_type": "code",
   "execution_count": 4,
   "id": "20e25ed5-c683-4a1c-9609-58c0a6bbd758",
   "metadata": {},
   "outputs": [
    {
     "name": "stdout",
     "output_type": "stream",
     "text": [
      "1\n",
      "2\n",
      "3\n",
      "4\n",
      "5\n"
     ]
    }
   ],
   "source": [
    "#exercise 9\n",
    "list = [i for i in range(1,6)]\n",
    "for i in list:\n",
    "    print (i)"
   ]
  },
  {
   "cell_type": "code",
   "execution_count": 226,
   "id": "fa9ff320-aa7c-4df0-be87-b2d43cff2fd5",
   "metadata": {},
   "outputs": [
    {
     "name": "stdout",
     "output_type": "stream",
     "text": [
      "1\n",
      "2\n",
      "3\n",
      "4\n",
      "5\n"
     ]
    }
   ],
   "source": [
    "#exercise 10\n",
    "i = 1\n",
    "while i < 6:\n",
    "    print(i)\n",
    "    i = i+1    "
   ]
  },
  {
   "cell_type": "code",
   "execution_count": 22,
   "id": "0ccc737e-b059-42c4-8380-f38ea4e0a262",
   "metadata": {},
   "outputs": [
    {
     "name": "stdin",
     "output_type": "stream",
     "text": [
      "input a grade: G\n"
     ]
    },
    {
     "name": "stdout",
     "output_type": "stream",
     "text": [
      "invalid input\n"
     ]
    }
   ],
   "source": [
    "#exercise 11\n",
    "n = input(\"input a grade:\")\n",
    "\n",
    "match(n):\n",
    "    case \"A\":\n",
    "        print(\"Excellent!\")\n",
    "    case \"B\":\n",
    "        print(\"Good job!\")\n",
    "    case \"C\":\n",
    "        print(\"Fair.\")\n",
    "    case \"D\":\n",
    "        print(\"Needs improvement.\")\n",
    "    case \"F\":\n",
    "        print(\"Failing.\")\n",
    "    case _:\n",
    "        print(\"invalid input\")"
   ]
  },
  {
   "cell_type": "code",
   "execution_count": 28,
   "id": "4d22182f-a066-4533-8a1b-d48e657260a8",
   "metadata": {},
   "outputs": [
    {
     "name": "stdin",
     "output_type": "stream",
     "text": [
      "name: julia\n"
     ]
    },
    {
     "name": "stdout",
     "output_type": "stream",
     "text": [
      "Hello, julia!\n"
     ]
    }
   ],
   "source": [
    "#exercise 12\n",
    "def greet(n):\n",
    "    n = input(\"name:\")\n",
    "    print (f\"Hello, {n}!\")\n",
    "    return\n",
    "\n",
    "greet(n)"
   ]
  },
  {
   "cell_type": "code",
   "execution_count": 74,
   "id": "06f97cb3-6ba1-4d7f-9cf2-1e5131e3683e",
   "metadata": {},
   "outputs": [
    {
     "name": "stdin",
     "output_type": "stream",
     "text": [
      "integer: 5\n"
     ]
    }
   ],
   "source": [
    "#exercise 13\n",
    "n = int(input(\"integer:\"))\n",
    "def square(n):\n",
    "    return n**2"
   ]
  },
  {
   "cell_type": "code",
   "execution_count": 66,
   "id": "96e4374e-7906-41f2-a9b6-24acc25d850f",
   "metadata": {},
   "outputs": [
    {
     "name": "stdout",
     "output_type": "stream",
     "text": [
      "5\n"
     ]
    }
   ],
   "source": [
    "#exercise 14\n",
    "def multiple(a, b=1):\n",
    "    return a*b"
   ]
  },
  {
   "cell_type": "code",
   "execution_count": 92,
   "id": "06c328d0-87b9-4bc6-bbce-ed0e3beb9a18",
   "metadata": {},
   "outputs": [],
   "source": [
    "#exercise 15\n",
    "list = [i for i in range(1,11)]\n",
    "list2 = [i**2 for i in list]"
   ]
  },
  {
   "cell_type": "code",
   "execution_count": 4,
   "id": "04714c6d-9c23-4ac6-9f1a-de3eeb4d0aad",
   "metadata": {},
   "outputs": [
    {
     "name": "stdout",
     "output_type": "stream",
     "text": [
      "jan 63.33\n",
      "julia 73.33\n"
     ]
    }
   ],
   "source": [
    "#exercise 16\n",
    "grades = {\"jan\":[50,60,80], \"julia\":[70,60,90]}\n",
    "\n",
    "def average(a):\n",
    "    j = 0\n",
    "    for i in a:\n",
    "        j = j + i\n",
    "    return round((j/len(a)),2)\n",
    "\n",
    "for k in grades:\n",
    "    print(k, average(grades[k]))"
   ]
  },
  {
   "cell_type": "code",
   "execution_count": 94,
   "id": "db12b407-e4ec-4239-970a-208cc6cd5808",
   "metadata": {},
   "outputs": [
    {
     "name": "stdout",
     "output_type": "stream",
     "text": [
      "zein C\n",
      "julia A\n",
      "sassine B\n"
     ]
    }
   ],
   "source": [
    "def conversion(x):\n",
    "    b = []\n",
    "    for i in x:\n",
    "        match(i):\n",
    "            case 'A':\n",
    "                b.append(3)\n",
    "            case 'B':\n",
    "                b.append(2)\n",
    "            case 'C':\n",
    "                b.append(1)\n",
    "    return b\n",
    "\n",
    "def average(y):\n",
    "    j = 0\n",
    "    for i in y:\n",
    "        j = j + i\n",
    "    j = round(j/len(y))\n",
    "    return j\n",
    "\n",
    "def finalgrade(z):\n",
    "    match(z):\n",
    "        case 1:\n",
    "            return 'C'\n",
    "        case 2:\n",
    "            return 'B'\n",
    "        case 3:\n",
    "            return 'A'\n",
    "\n",
    "grades = {\"zein\":['B','C','C'], \"julia\":['A','A','B'], \"sassine\":['C','A','A']}\n",
    "\n",
    "def cal(n):\n",
    "    b = conversion(n)\n",
    "    j = average(b)\n",
    "    return finalgrade(j)\n",
    "\n",
    "for k in grades:\n",
    "    print(k, cal(grades[k]))\n",
    "    "
   ]
  },
  {
   "cell_type": "code",
   "execution_count": 96,
   "id": "1fc0efad-0c31-460b-a755-f12c0f208606",
   "metadata": {},
   "outputs": [
    {
     "name": "stdin",
     "output_type": "stream",
     "text": [
      "a: 4\n",
      "b: 5\n",
      "c: /\n"
     ]
    },
    {
     "name": "stdout",
     "output_type": "stream",
     "text": [
      "0.8\n"
     ]
    }
   ],
   "source": [
    "#exercise 17\n",
    "def calculate(a,b,c):\n",
    "    if c == '+':\n",
    "        return a+b\n",
    "    elif c == '-':\n",
    "        return a-b\n",
    "    elif c == '*':\n",
    "        return a*b\n",
    "    elif c == '/':\n",
    "        return a/b\n",
    "\n",
    "a = int(input('a:'))\n",
    "b = int(input('b:'))\n",
    "c = input('c:')\n",
    "print(calculate(a,b,c))"
   ]
  }
 ],
 "metadata": {
  "kernelspec": {
   "display_name": "Python 3 (ipykernel)",
   "language": "python",
   "name": "python3"
  },
  "language_info": {
   "codemirror_mode": {
    "name": "ipython",
    "version": 3
   },
   "file_extension": ".py",
   "mimetype": "text/x-python",
   "name": "python",
   "nbconvert_exporter": "python",
   "pygments_lexer": "ipython3",
   "version": "3.12.4"
  }
 },
 "nbformat": 4,
 "nbformat_minor": 5
}
