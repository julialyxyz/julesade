{
 "cells": [
  {
   "cell_type": "markdown",
   "id": "799f2025",
   "metadata": {},
   "source": [
    "### Session 1"
   ]
  },
  {
   "cell_type": "markdown",
   "id": "dabc3fef",
   "metadata": {},
   "source": [
    "<div class=\"alert alert-block alert-warning\">\n",
    "<h4> Syntax and Variables <h4>\n",
    "</div>"
   ]
  },
  {
   "cell_type": "markdown",
   "id": "59f37021",
   "metadata": {},
   "source": [
    "<div class=\"alert alert-block alert-info\">\n",
    "<b>Exercise 1: Print a Greeting</b> \n",
    "\n",
    "Write a python program that prints a greeting message\n",
    "</div>"
   ]
  },
  {
   "cell_type": "code",
   "execution_count": 3,
   "id": "4a81844e",
   "metadata": {},
   "outputs": [
    {
     "name": "stdout",
     "output_type": "stream",
     "text": [
      "Hello, Python!\n"
     ]
    }
   ],
   "source": [
    "print(\"Hello, Python!\")"
   ]
  },
  {
   "cell_type": "markdown",
   "id": "13deff60-439c-4387-b96d-17a23ac08cdc",
   "metadata": {},
   "source": [
    "<div class=\"alert alert-block alert-info\">\n",
    "<b>Exercise 2: Basic Arithmetic</b> \n",
    "\n",
    "Create a program that takes two variables and print their sum, difference, product, and quotient\n",
    "</div>\n"
   ]
  },
  {
   "cell_type": "code",
   "execution_count": 12,
   "id": "defec4fa",
   "metadata": {},
   "outputs": [],
   "source": [
    "def arithmetic(a, b):\n",
    "    print(\"sum:\", a+b)  #addition\n",
    "    print(\"difference:\", a-b)   #subtraction\n",
    "    print(\"product:\", a*b)  #multiplication\n",
    "    print(\"quotient:\", a//b)    #division\n",
    "    return"
   ]
  },
  {
   "cell_type": "code",
   "execution_count": 17,
   "id": "03e28b9d",
   "metadata": {},
   "outputs": [
    {
     "name": "stdout",
     "output_type": "stream",
     "text": [
      "sum: 14\n",
      "difference: -4\n",
      "product: 45\n",
      "quotient: 0\n"
     ]
    }
   ],
   "source": [
    "arithmetic(5,9) #calling arithmetic function "
   ]
  },
  {
   "cell_type": "markdown",
   "id": "ee6cdae5",
   "metadata": {},
   "source": [
    "<div class=\"alert alert-block alert-info\">\n",
    "<b>Exercise 3: String Manipulation</b> \n",
    "\n",
    "Create a program that displays a message saying \"Hello, [name]!\", with [name] being the value stored in the variable.\n",
    "</div>"
   ]
  },
  {
   "cell_type": "code",
   "execution_count": 16,
   "id": "f0576216-3852-4abe-8ae1-347ea6ae90b5",
   "metadata": {},
   "outputs": [
    {
     "name": "stdout",
     "output_type": "stream",
     "text": [
      "Hello, julia!\n"
     ]
    }
   ],
   "source": [
    "#assign my name 'julia' to variable 'name'\n",
    "name = 'julia' \n",
    "\n",
    "#print greeting\n",
    "print(f\"Hello, {name}!\")"
   ]
  },
  {
   "cell_type": "markdown",
   "id": "8a4e0c5e",
   "metadata": {},
   "source": [
    "<div class=\"alert alert-block alert-warning\">\n",
    "<h4> Lists and Dictionaries <h4>\n",
    "</div>"
   ]
  },
  {
   "cell_type": "markdown",
   "id": "73c6781d",
   "metadata": {},
   "source": [
    "<div class=\"alert alert-block alert-info\">\n",
    "<b>Exercise 4: Lists</b> \n",
    "\n",
    "Create a list called universities with at least five different university names, then print the entire list along with the first and last university in it.\n",
    "</div>"
   ]
  },
  {
   "cell_type": "code",
   "execution_count": 19,
   "id": "66fe7eba-f4a9-4c55-acab-e64088d5a865",
   "metadata": {},
   "outputs": [],
   "source": [
    "#create a list\n",
    "universities = ['HKU', 'CUHK', 'esade', 'LSE', 'IC', 'IE'] "
   ]
  },
  {
   "cell_type": "code",
   "execution_count": 21,
   "id": "7d5d8cce",
   "metadata": {},
   "outputs": [
    {
     "name": "stdout",
     "output_type": "stream",
     "text": [
      "['HKU', 'CUHK', 'esade', 'LSE', 'IC', 'IE']\n",
      "HKU IE\n"
     ]
    }
   ],
   "source": [
    "#print the entire list\n",
    "print(universities)\n",
    "\n",
    "#print the first and last university in the list\n",
    "print(universities[0], universities[(len(universities)-1)])"
   ]
  },
  {
   "cell_type": "markdown",
   "id": "e9d19f2c",
   "metadata": {},
   "source": [
    "<div class=\"alert alert-block alert-info\">\n",
    "<b>Exercise 5: Dictionaries</b> \n",
    "\n",
    "Create a dictionary named student with the keys name, age, and grade, assign suitable values to each key, and then write a program to print each key-value pair in the dictionary.\n",
    "</div>"
   ]
  },
  {
   "cell_type": "code",
   "execution_count": 29,
   "id": "ac271899-463e-40f2-bad4-2ac4175def32",
   "metadata": {},
   "outputs": [],
   "source": [
    "#create a dictionary\n",
    "students = {\"name\":\"julia\", \"age\":23, \"grade\":\"A\"}"
   ]
  },
  {
   "cell_type": "code",
   "execution_count": 30,
   "id": "a8f86162",
   "metadata": {},
   "outputs": [
    {
     "name": "stdout",
     "output_type": "stream",
     "text": [
      "{'name': 'julia', 'age': 23, 'grade': 'A'}\n"
     ]
    }
   ],
   "source": [
    "print(students)"
   ]
  },
  {
   "cell_type": "markdown",
   "id": "7575ec37",
   "metadata": {},
   "source": [
    "<div class=\"alert alert-block alert-warning\">\n",
    "<h4> Tuples and Sets <h4>\n",
    "</div>"
   ]
  },
  {
   "cell_type": "markdown",
   "id": "ce5b552a",
   "metadata": {},
   "source": [
    "<div class=\"alert alert-block alert-info\">\n",
    "<b>Exercise 6: Tuples</b> \n",
    "\n",
    "Define a tuple named coordinates with two values representing a point in 2D space (e.g., (x, y)), and then print the tuple along with each element accessed by its index.\n",
    "</div>"
   ]
  },
  {
   "cell_type": "code",
   "execution_count": 35,
   "id": "c4970ec2-3fea-4153-92d5-f29e6f8302d4",
   "metadata": {},
   "outputs": [],
   "source": [
    "#define tuple called coordinates\n",
    "coordinates = (2,3)"
   ]
  },
  {
   "cell_type": "code",
   "execution_count": 37,
   "id": "05cd95a1",
   "metadata": {},
   "outputs": [
    {
     "name": "stdout",
     "output_type": "stream",
     "text": [
      "2 3\n"
     ]
    }
   ],
   "source": [
    "#print coordinates by index\n",
    "print(coordinates[0], coordinates[1])"
   ]
  },
  {
   "cell_type": "markdown",
   "id": "3e78d593",
   "metadata": {},
   "source": [
    "<div class=\"alert alert-block alert-info\">\n",
    "<b>Exercise 7: Sets</b> \n",
    "\n",
    "Create a set with colors and manipulate the set\n",
    "</div>"
   ]
  },
  {
   "cell_type": "code",
   "execution_count": 13,
   "id": "263c3285-c570-4edf-9d81-f0b3dd03b71e",
   "metadata": {},
   "outputs": [],
   "source": [
    "colors = {\"red\", \"green\", \"blue\"}\n"
   ]
  },
  {
   "cell_type": "code",
   "execution_count": 14,
   "id": "78068951",
   "metadata": {},
   "outputs": [
    {
     "name": "stdout",
     "output_type": "stream",
     "text": [
      "{'red', 'pink', 'blue', 'green'}\n"
     ]
    }
   ],
   "source": [
    "#add another color 'pink' to the set\n",
    "colors.add(\"pink\") \n",
    "print(colors)"
   ]
  },
  {
   "cell_type": "code",
   "execution_count": 15,
   "id": "1ea70698",
   "metadata": {},
   "outputs": [
    {
     "name": "stdout",
     "output_type": "stream",
     "text": [
      "{'red', 'pink', 'blue', 'green'}\n"
     ]
    }
   ],
   "source": [
    "#adding a duplicate color to the set\n",
    "colors.add(\"pink\")\n",
    "print(colors) #no duplicates"
   ]
  },
  {
   "cell_type": "code",
   "execution_count": 16,
   "id": "d63f5d7e",
   "metadata": {},
   "outputs": [
    {
     "data": {
      "text/plain": [
       "'red'"
      ]
     },
     "execution_count": 16,
     "metadata": {},
     "output_type": "execute_result"
    }
   ],
   "source": [
    "#remove one color from set\n",
    "colors.pop()"
   ]
  },
  {
   "cell_type": "code",
   "execution_count": 18,
   "id": "d68624e4",
   "metadata": {},
   "outputs": [
    {
     "name": "stdout",
     "output_type": "stream",
     "text": [
      "{'pink', 'yellow', 'green', 'purple', 'blue'}\n"
     ]
    }
   ],
   "source": [
    "#create another set\n",
    "light_colors = {\"yellow\", \"purple\"}\n",
    "\n",
    "#merge light_colors with colors set\n",
    "all_colors = colors.union(light_colors)\n",
    "print(all_colors)"
   ]
  },
  {
   "cell_type": "markdown",
   "id": "f609dd0c",
   "metadata": {},
   "source": [
    "<div class=\"alert alert-block alert-warning\">\n",
    "<h4> Control Flow <h4>\n",
    "</div>"
   ]
  },
  {
   "cell_type": "markdown",
   "id": "f28a2fcd",
   "metadata": {},
   "source": [
    "<div class=\"alert alert-block alert-info\">\n",
    "<b>Exercise 8: Conditional statements</b> \n",
    "\n",
    "Create a program that checks if a number is positive, negative, or zero, and print an appropriate message based on the result.\n",
    "</div>"
   ]
  },
  {
   "cell_type": "code",
   "execution_count": 2,
   "id": "b5c63b1b-de69-4386-8f57-178d1d3f917a",
   "metadata": {},
   "outputs": [],
   "source": [
    "def check(n):\n",
    "    if n == 0:      \n",
    "        print(\"value is zero\")      \n",
    "    elif n > 0:\n",
    "        print(\"value is positive\")\n",
    "    else:\n",
    "        print(\"value is negative\")\n",
    "    return"
   ]
  },
  {
   "cell_type": "code",
   "execution_count": 6,
   "id": "6fb05a21",
   "metadata": {},
   "outputs": [
    {
     "name": "stdin",
     "output_type": "stream",
     "text": [
      "Enter a number:  5\n"
     ]
    },
    {
     "name": "stdout",
     "output_type": "stream",
     "text": [
      "value is positive\n"
     ]
    }
   ],
   "source": [
    "n = int(input(\"Enter a number: \"))\n",
    "check(n)"
   ]
  },
  {
   "cell_type": "markdown",
   "id": "db14acc3",
   "metadata": {},
   "source": [
    "<div class=\"alert alert-block alert-info\">\n",
    "<b>Exercise 9: For loop</b> \n",
    "\n",
    "Create a list of numbers from 1 to 5 and use a for loop to iterate through the list, printing each number\n",
    "</div>"
   ]
  },
  {
   "cell_type": "code",
   "execution_count": 8,
   "id": "176cddcb",
   "metadata": {},
   "outputs": [
    {
     "name": "stdout",
     "output_type": "stream",
     "text": [
      "1\n",
      "2\n",
      "3\n",
      "4\n",
      "5\n"
     ]
    }
   ],
   "source": [
    "list = [i for i in range(1,6)]      \n",
    "for i in list:\n",
    "    print (i)"
   ]
  },
  {
   "cell_type": "markdown",
   "id": "6495201e",
   "metadata": {},
   "source": [
    "<div class=\"alert alert-block alert-info\">\n",
    "<b>Exercise 10: While loop</b> \n",
    "\n",
    "Write a program that uses a while loop to print numbers from 1 to 5\n",
    "</div>"
   ]
  },
  {
   "cell_type": "code",
   "execution_count": 4,
   "id": "fa9ff320-aa7c-4df0-be87-b2d43cff2fd5",
   "metadata": {},
   "outputs": [
    {
     "name": "stdout",
     "output_type": "stream",
     "text": [
      "1\n",
      "2\n",
      "3\n",
      "4\n",
      "5\n"
     ]
    }
   ],
   "source": [
    "i = 1\n",
    "\n",
    "while i < 6:        #specify i < 6 to ensure the loop terminates correctly\n",
    "    print(i)\n",
    "    i = i+1    "
   ]
  },
  {
   "cell_type": "markdown",
   "id": "492c596a",
   "metadata": {},
   "source": [
    "<div class=\"alert alert-block alert-info\">\n",
    "<b>Exercise 11: Match statement</b> \n",
    "\n",
    "Write a program that asks the user to input a grade (e.g., \"A\", \"B\", \"C\", \"D\", or \"F\")\n",
    "\n",
    "Use a match statement to print a corresponding message for each grade\n",
    "</div>"
   ]
  },
  {
   "cell_type": "code",
   "execution_count": 10,
   "id": "0ccc737e-b059-42c4-8380-f38ea4e0a262",
   "metadata": {},
   "outputs": [
    {
     "name": "stdin",
     "output_type": "stream",
     "text": [
      "input a grade: A\n"
     ]
    },
    {
     "name": "stdout",
     "output_type": "stream",
     "text": [
      "Excellent!\n"
     ]
    }
   ],
   "source": [
    "n = input(\"input a grade:\")\n",
    "\n",
    "match(n):\n",
    "    case \"A\":\n",
    "        print(\"Excellent!\")\n",
    "    case \"B\":\n",
    "        print(\"Good job!\")\n",
    "    case \"C\":\n",
    "        print(\"Fair.\")\n",
    "    case \"D\":\n",
    "        print(\"Needs improvement.\")\n",
    "    case \"F\":\n",
    "        print(\"Failing.\")\n",
    "    case _:\n",
    "        print(\"invalid input\")"
   ]
  },
  {
   "cell_type": "markdown",
   "id": "7d09a672",
   "metadata": {},
   "source": [
    "<div class=\"alert alert-block alert-warning\">\n",
    "<h4> Function <h4>\n",
    "</div>"
   ]
  },
  {
   "cell_type": "markdown",
   "id": "f36595e5",
   "metadata": {},
   "source": [
    "<div class=\"alert alert-block alert-info\">\n",
    "<b>Exercise 12: Define a function</b> \n",
    "\n",
    "Write a function called greet that takes a name as an argument and prints \"Hello, [name]!\".\n",
    "</div>"
   ]
  },
  {
   "cell_type": "code",
   "execution_count": 12,
   "id": "4d22182f-a066-4533-8a1b-d48e657260a8",
   "metadata": {},
   "outputs": [
    {
     "name": "stdin",
     "output_type": "stream",
     "text": [
      "name: julia\n"
     ]
    },
    {
     "name": "stdout",
     "output_type": "stream",
     "text": [
      "Hello, julia!\n"
     ]
    }
   ],
   "source": [
    "def greet(n):\n",
    "    n = input(\"name:\")      #input my name 'julia'\n",
    "    print (f\"Hello, {n}!\")\n",
    "    return\n",
    "\n",
    "greet(n)"
   ]
  },
  {
   "cell_type": "markdown",
   "id": "b85a5208",
   "metadata": {},
   "source": [
    "<div class=\"alert alert-block alert-info\">\n",
    "<b>Exercise 13: Function with a return value</b> \n",
    "\n",
    "Define a function called square that takes a number as an argument and returns its square\n",
    "</div>"
   ]
  },
  {
   "cell_type": "code",
   "execution_count": 18,
   "id": "06f97cb3-6ba1-4d7f-9cf2-1e5131e3683e",
   "metadata": {},
   "outputs": [
    {
     "name": "stdin",
     "output_type": "stream",
     "text": [
      "integer: 2\n"
     ]
    },
    {
     "name": "stdout",
     "output_type": "stream",
     "text": [
      "4\n"
     ]
    }
   ],
   "source": [
    "n = int(input(\"integer:\"))\n",
    "def square(n):\n",
    "    return n**2\n",
    "\n",
    "print(square(n))"
   ]
  },
  {
   "cell_type": "markdown",
   "id": "94d98da1",
   "metadata": {},
   "source": [
    "<div class=\"alert alert-block alert-info\">\n",
    "<b>Exercise 14: Function with a default parameter</b> \n",
    "\n",
    "Write a function called multiply that takes two parameters, a and b, and returns their product\n",
    "</div>"
   ]
  },
  {
   "cell_type": "code",
   "execution_count": 22,
   "id": "96e4374e-7906-41f2-a9b6-24acc25d850f",
   "metadata": {},
   "outputs": [
    {
     "name": "stdout",
     "output_type": "stream",
     "text": [
      "72\n"
     ]
    }
   ],
   "source": [
    "def multiple(a, b):\n",
    "    return a*b\n",
    "\n",
    "print(multiple(8,9))"
   ]
  },
  {
   "cell_type": "code",
   "execution_count": 24,
   "id": "15fae471",
   "metadata": {},
   "outputs": [
    {
     "name": "stdout",
     "output_type": "stream",
     "text": [
      "8\n"
     ]
    }
   ],
   "source": [
    "#Set a default value of 1 for the parameter b\n",
    "\n",
    "def multiple(a, b=1):\n",
    "    return a*b\n",
    "\n",
    "print(multiple(8,))"
   ]
  },
  {
   "cell_type": "markdown",
   "id": "9954140b",
   "metadata": {},
   "source": [
    "<div class=\"alert alert-block alert-warning\">\n",
    "<h4> Combined <h4>\n",
    "</div>"
   ]
  },
  {
   "cell_type": "markdown",
   "id": "ed3e255a",
   "metadata": {},
   "source": [
    "<div class=\"alert alert-block alert-info\">\n",
    "<b>Exercise 15: List comprehension</b> \n",
    "\n",
    "Create a list of numbers from 1 to 10, then use list comprehension to create a new list that contains the squares of these numbers\n",
    "</div>"
   ]
  },
  {
   "cell_type": "code",
   "execution_count": 6,
   "id": "06c328d0-87b9-4bc6-bbce-ed0e3beb9a18",
   "metadata": {},
   "outputs": [
    {
     "name": "stdout",
     "output_type": "stream",
     "text": [
      "[1, 4, 9, 16, 25, 36, 49, 64, 81, 100]\n"
     ]
    }
   ],
   "source": [
    "list = [i for i in range(1,11)]\n",
    "list2 = [i**2 for i in list]\n",
    "\n",
    "print(list2)"
   ]
  },
  {
   "cell_type": "markdown",
   "id": "f495f15d",
   "metadata": {},
   "source": [
    "<div class=\"alert alert-block alert-info\">\n",
    "<b>Exercise 16: Nested data structures</b> \n",
    "\n",
    "Create a dictionary with student names as keys and lists of their grades as values, and write a function that calculates and prints the average grade for each student\n",
    "</div>"
   ]
  },
  {
   "cell_type": "code",
   "execution_count": 26,
   "id": "04714c6d-9c23-4ac6-9f1a-de3eeb4d0aad",
   "metadata": {},
   "outputs": [
    {
     "name": "stdout",
     "output_type": "stream",
     "text": [
      "jan 8.0\n",
      "julia 8.33\n"
     ]
    }
   ],
   "source": [
    "#number grades\n",
    "grades = {\"jan\":[6,8,10], \"julia\":[8,7,10]}\n",
    "\n",
    "def average(a):\n",
    "    j = 0\n",
    "    for i in a:\n",
    "        j = j + i\n",
    "    return round((j/len(a)),2)\n",
    "\n",
    "for k in grades:\n",
    "    print(k, average(grades[k]))"
   ]
  },
  {
   "cell_type": "code",
   "execution_count": 9,
   "id": "db12b407-e4ec-4239-970a-208cc6cd5808",
   "metadata": {},
   "outputs": [
    {
     "name": "stdout",
     "output_type": "stream",
     "text": [
      "zein C\n",
      "julia A\n",
      "sassine B\n"
     ]
    }
   ],
   "source": [
    "#letter grades\n",
    "def conversion(x):      #convert letter grades to numbers\n",
    "    b = []\n",
    "    for i in x:\n",
    "        match(i):\n",
    "            case 'A':\n",
    "                b.append(3)\n",
    "            case 'B':\n",
    "                b.append(2)\n",
    "            case 'C':\n",
    "                b.append(1)\n",
    "    return b\n",
    "\n",
    "def average(y):\n",
    "    j = 0\n",
    "    for i in y:\n",
    "        j = j + i\n",
    "    j = round(j/len(y))\n",
    "    return j\n",
    "\n",
    "def finalgrade(z):\n",
    "    match(z):\n",
    "        case 1:\n",
    "            return 'C'\n",
    "        case 2:\n",
    "            return 'B'\n",
    "        case 3:\n",
    "            return 'A'\n",
    "\n",
    "grades = {\"zein\":['B','C','C'], \"julia\":['A','A','B'], \"sassine\":['C','A','A']}\n",
    "\n",
    "def cal(n):\n",
    "    b = conversion(n)\n",
    "    j = average(b)\n",
    "    return finalgrade(j)\n",
    "\n",
    "for k in grades:\n",
    "    print(k, cal(grades[k]))\n",
    "    "
   ]
  },
  {
   "cell_type": "markdown",
   "id": "552f35c4",
   "metadata": {},
   "source": [
    "<div class=\"alert alert-block alert-info\">\n",
    "<b>Exercise 17: Simple calculator</b> \n",
    "\n",
    "Create a program with a calculate function that takes two numbers and an operator (+, -, *, /), performs the operation, and returns the result\n",
    "</div>"
   ]
  },
  {
   "cell_type": "code",
   "execution_count": 28,
   "id": "1fc0efad-0c31-460b-a755-f12c0f208606",
   "metadata": {},
   "outputs": [
    {
     "name": "stdin",
     "output_type": "stream",
     "text": [
      "a: 6\n",
      "b: 8\n",
      "c: +\n"
     ]
    },
    {
     "name": "stdout",
     "output_type": "stream",
     "text": [
      "14\n"
     ]
    }
   ],
   "source": [
    "#exercise 17\n",
    "def calculate(a,b,c):\n",
    "    if c == '+':\n",
    "        return a+b\n",
    "    elif c == '-':\n",
    "        return a-b\n",
    "    elif c == '*':\n",
    "        return a*b\n",
    "    elif c == '/':\n",
    "        return a/b\n",
    "\n",
    "a = int(input('a:'))\n",
    "b = int(input('b:'))\n",
    "c = input('c:')\n",
    "print(calculate(a,b,c))"
   ]
  }
 ],
 "metadata": {
  "kernelspec": {
   "display_name": "Python 3 (ipykernel)",
   "language": "python",
   "name": "python3"
  },
  "language_info": {
   "codemirror_mode": {
    "name": "ipython",
    "version": 3
   },
   "file_extension": ".py",
   "mimetype": "text/x-python",
   "name": "python",
   "nbconvert_exporter": "python",
   "pygments_lexer": "ipython3",
   "version": "3.12.4"
  }
 },
 "nbformat": 4,
 "nbformat_minor": 5
}
