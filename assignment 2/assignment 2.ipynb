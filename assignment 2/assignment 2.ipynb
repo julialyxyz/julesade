{
 "cells": [
  {
   "cell_type": "markdown",
   "metadata": {},
   "source": [
    "### Session 2"
   ]
  },
  {
   "cell_type": "markdown",
   "metadata": {},
   "source": [
    "<div class=\"alert alert-block alert-info\">\n",
    "<b>Exercise 1: FizzBuzz</b> \n",
    "\n",
    " Create a function fizzbuzz(n) that takes an integer n as a parameter\n",
    " Implement FizzBuzz Logic: The function should print: \n",
    " * \"Fizz\" for multiples of 3 \n",
    " * \"Buzz\" for multiples of 5 \n",
    " * \"FizzBuzz\" for multiples of both 3 and 5 \n",
    " * The number itself for other numbers\n",
    "</div>"
   ]
  },
  {
   "cell_type": "code",
   "execution_count": 1,
   "metadata": {},
   "outputs": [],
   "source": [
    "def fizzbuzz(n):         \n",
    "    x = n%3\n",
    "    y = n%5\n",
    "    if x == 0 and y == 0:\n",
    "        return \"FizzBuzz\"\n",
    "    elif  x == 0:\n",
    "        return \"Fizz\"\n",
    "    elif y == 0:\n",
    "        return \"Buzz\"\n",
    "    else:\n",
    "        return n"
   ]
  },
  {
   "cell_type": "code",
   "execution_count": 2,
   "metadata": {},
   "outputs": [
    {
     "name": "stdout",
     "output_type": "stream",
     "text": [
      "1\n",
      "2\n",
      "Fizz\n",
      "4\n",
      "Buzz\n",
      "Fizz\n",
      "7\n",
      "8\n",
      "Fizz\n",
      "Buzz\n",
      "11\n",
      "Fizz\n",
      "13\n",
      "14\n",
      "FizzBuzz\n",
      "16\n",
      "17\n",
      "Fizz\n",
      "19\n",
      "Buzz\n"
     ]
    }
   ],
   "source": [
    "#Call the function for numbers 1 to 20\n",
    "\n",
    "for i in range(1,21):\n",
    "    print(fizzbuzz(i))"
   ]
  },
  {
   "cell_type": "markdown",
   "metadata": {},
   "source": [
    "<div class=\"alert alert-block alert-info\">\n",
    "<b>Exercise 2: Basic data filtering</b> \n",
    "\n",
    " Create a list that contains a mix of integers, strings, and floats, then create a new list that contains only the integers from the original list.\n",
    "</div>"
   ]
  },
  {
   "cell_type": "code",
   "execution_count": 3,
   "metadata": {},
   "outputs": [],
   "source": [
    "#Create a list of mixed data types\n",
    "mylist = [\"help\", 5, 6, 9.0, 4.0, \"me\"]"
   ]
  },
  {
   "cell_type": "code",
   "execution_count": 4,
   "metadata": {},
   "outputs": [],
   "source": [
    "#filter the list\n",
    "mylist2 = []\n",
    "\n",
    "for i in mylist:\n",
    "    if type(i) == int: \n",
    "        mylist2.append(i)"
   ]
  },
  {
   "cell_type": "code",
   "execution_count": 5,
   "metadata": {},
   "outputs": [
    {
     "name": "stdout",
     "output_type": "stream",
     "text": [
      "[5, 6]\n"
     ]
    }
   ],
   "source": [
    "#print the filtered list of integers\n",
    "print (mylist2)"
   ]
  },
  {
   "cell_type": "markdown",
   "metadata": {},
   "source": [
    "<div class=\"alert alert-block alert-info\">\n",
    "<b>Exercise 3: Simple to-do list</b> \n",
    "\n",
    "Create a to do list and define 2 functions:\n",
    "* A function add_task(task) that adds a task to the list\n",
    "* A function show_tasks() that prints all tasks in the list\n",
    "</div>"
   ]
  },
  {
   "cell_type": "code",
   "execution_count": 6,
   "metadata": {},
   "outputs": [],
   "source": [
    "#Create a to do list\n",
    "todo_list = []"
   ]
  },
  {
   "cell_type": "code",
   "execution_count": 7,
   "metadata": {},
   "outputs": [],
   "source": [
    "#function to add tasks to the list\n",
    "def add_task(t):\n",
    "    todo_list.append(str(t))\n",
    "\n",
    "#function print all tasks in the list\n",
    "def show_task():\n",
    "    for i in todo_list:\n",
    "        print(i)"
   ]
  },
  {
   "cell_type": "code",
   "execution_count": 8,
   "metadata": {},
   "outputs": [
    {
     "name": "stdout",
     "output_type": "stream",
     "text": [
      "cry\n",
      "study\n"
     ]
    }
   ],
   "source": [
    "add_task(\"cry\")\n",
    "add_task(\"study\")\n",
    "show_task()"
   ]
  },
  {
   "cell_type": "markdown",
   "metadata": {},
   "source": [
    "<div class=\"alert alert-block alert-info\">\n",
    "<b>Exercise 4: Temperature Converter</b> \n",
    "\n",
    "Define a converesion function that converts Celsius to Fahrenheit\n",
    "</div>"
   ]
  },
  {
   "cell_type": "code",
   "execution_count": 9,
   "metadata": {},
   "outputs": [],
   "source": [
    "#define conversion function\n",
    "def celsius_to_fahrenheit(c):\n",
    "    return ((c*9/5)+32)"
   ]
  },
  {
   "cell_type": "code",
   "execution_count": 10,
   "metadata": {},
   "outputs": [
    {
     "name": "stdout",
     "output_type": "stream",
     "text": [
      "71.6\n",
      "114.8\n",
      "123.8\n",
      "168.8\n"
     ]
    }
   ],
   "source": [
    "#convert list of temperature\n",
    "ls = [22, 46, 51, 76]\n",
    "for i in ls: \n",
    "    print(celsius_to_fahrenheit(i))"
   ]
  }
 ],
 "metadata": {
  "kernelspec": {
   "display_name": "myenv",
   "language": "python",
   "name": "python3"
  },
  "language_info": {
   "codemirror_mode": {
    "name": "ipython",
    "version": 3
   },
   "file_extension": ".py",
   "mimetype": "text/x-python",
   "name": "python",
   "nbconvert_exporter": "python",
   "pygments_lexer": "ipython3",
   "version": "3.9.20"
  }
 },
 "nbformat": 4,
 "nbformat_minor": 2
}
