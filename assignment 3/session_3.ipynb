{
  "cells": [
    {
      "cell_type": "markdown",
      "id": "24b98369-c7ba-450b-a8b5-e34319000695",
      "metadata": {
        "editable": true,
        "id": "24b98369-c7ba-450b-a8b5-e34319000695",
        "tags": []
      },
      "source": [
        "### Session 3: Object Oriented Programming"
      ]
    },
    {
      "cell_type": "markdown",
      "id": "767bdae1",
      "metadata": {},
      "source": [
        "---"
      ]
    },
    {
      "cell_type": "markdown",
      "id": "42f8be9a-cc71-4a58-97ac-1a54219a2d72",
      "metadata": {
        "editable": true,
        "id": "42f8be9a-cc71-4a58-97ac-1a54219a2d72",
        "tags": []
      },
      "source": [
        "<div class=\"alert alert-block alert-info\">\n",
        "<b>Exercise 1: Design a course registration system</b> \n",
        "\n",
        "Create a **Course** class, where each course has a name, a description and a list of enrolled students. \n",
        "\n",
        "Methods to be implemented:\n",
        "* Add a student to the course.\n",
        "* Remove a student from the course.\n",
        "* Show all students in the course.\n",
        "\n",
        "</div>"
      ]
    },
    {
      "cell_type": "code",
      "execution_count": 81,
      "id": "e5430dcf-a01a-4ea1-aff8-5bad4531ab1e",
      "metadata": {
        "editable": true,
        "id": "e5430dcf-a01a-4ea1-aff8-5bad4531ab1e",
        "tags": []
      },
      "outputs": [],
      "source": [
        "class Course:\n",
        "    def __init__(self, name, course_type): #constructor\n",
        "        self.name = name #attribute\n",
        "        self.course_type = course_type #attribute\n",
        "        self.studentsls = []\n",
        "\n",
        "    def add_student(self, student): #method to add student\n",
        "        self.studentsls.append(student)\n",
        "        print(f\"{student} has been added to the {self.name}.\")\n",
        "\n",
        "    def remove_student(self, student): #method to remove student\n",
        "        self.studentsls.remove(student)\n",
        "        print(f\"{student} has been removed from {self.name}.\")\n",
        "\n",
        "    def describe(self): #method to show all student in the course \n",
        "        print(self.studentsls)\n"
      ]
    },
    {
      "cell_type": "code",
      "execution_count": 82,
      "id": "29df682e",
      "metadata": {},
      "outputs": [
        {
          "name": "stdout",
          "output_type": "stream",
          "text": [
            "Julia L. has been added to the Python.\n",
            "Kevin P. has been added to the Python.\n",
            "['Julia L.', 'Kevin P.']\n"
          ]
        }
      ],
      "source": [
        "#create python course and add students to the course\n",
        "Python_course = Course(\"Python\", \"Data Science\")\n",
        "Python_course.add_student(\"Julia L.\")\n",
        "Python_course.add_student(\"Kevin P.\")\n",
        "Python_course.describe()"
      ]
    },
    {
      "cell_type": "code",
      "execution_count": 83,
      "id": "7eb2008e",
      "metadata": {},
      "outputs": [
        {
          "name": "stdout",
          "output_type": "stream",
          "text": [
            "Julia L. has been removed from Python.\n"
          ]
        }
      ],
      "source": [
        "#remove student from course\n",
        "Python_course.remove_student(\"Julia L.\")"
      ]
    },
    {
      "cell_type": "code",
      "execution_count": 84,
      "id": "ddc77513",
      "metadata": {},
      "outputs": [
        {
          "name": "stdout",
          "output_type": "stream",
          "text": [
            "Sassine H. has been added to the Artificial Intelligence.\n",
            "Victor J. has been added to the Artificial Intelligence.\n",
            "['Sassine H.', 'Victor J.']\n"
          ]
        }
      ],
      "source": [
        "#create AI course and add students to teh course\n",
        "AI_course = Course(\"Artificial Intelligence\", \"AI\")\n",
        "AI_course.add_student(\"Sassine H.\")\n",
        "AI_course.add_student(\"Victor J.\")\n",
        "AI_course.describe()"
      ]
    },
    {
      "cell_type": "markdown",
      "id": "16cc578c-9fe3-4478-81da-3071e3adb318",
      "metadata": {
        "editable": true,
        "id": "16cc578c-9fe3-4478-81da-3071e3adb318",
        "tags": []
      },
      "source": [
        "<div class=\"alert alert-block alert-info\">\n",
        "<b>Exercise 2: Design a student registrtrion system</b> \n",
        "\n",
        "Create a **Student** class, where each student has a name, ID number, address and a list of enrolled courses \n",
        "\n",
        "Methods to be implemented:\n",
        "* Enroll in a course.\n",
        "* Drop a course.\n",
        "* Show all registered student courses.\n",
        "\n",
        "</div>"
      ]
    },
    {
      "cell_type": "code",
      "execution_count": 85,
      "id": "fe4cce31-1ddf-4847-bc8d-924dc3e0dfe1",
      "metadata": {
        "editable": true,
        "id": "fe4cce31-1ddf-4847-bc8d-924dc3e0dfe1",
        "tags": []
      },
      "outputs": [],
      "source": [
        "class Student:\n",
        "    def __init__(self, name, student_id, address=None):\n",
        "        self.name = name\n",
        "        self.student_id = student_id\n",
        "        self.coursels = []\n",
        "\n",
        "    def enroll(self, course):\n",
        "        self.coursels.append(course)\n",
        "        print(f\"{self.name} has enrolled to {course.name}.\")\n",
        "\n",
        "    def drop(self, course):\n",
        "        self.coursels.remove(course)\n",
        "        print(f\"{self.name} has dropped {course.name}.\")\n",
        "\n",
        "    def describe(self):\n",
        "        if len(self.coursels) == 0:\n",
        "            print(f\"{self.name} has not enrolled in any course.\")\n",
        "        else: \n",
        "            print(f\"{self.name} has enrolled in: \" + \", \".join([i.name for i in self.coursels]))"
      ]
    },
    {
      "cell_type": "code",
      "execution_count": 86,
      "id": "444c742a",
      "metadata": {},
      "outputs": [],
      "source": [
        "#create student objects\n",
        "victor = Student(\"Victor J.\", 100)\n",
        "sassine = Student(\"Sassine H.\", 101)\n",
        "julia = Student(\"Julia L.\", 102)\n",
        "kevin = Student(\"Kevin P.\", 103)"
      ]
    },
    {
      "cell_type": "code",
      "execution_count": 87,
      "id": "58f7f5f6",
      "metadata": {},
      "outputs": [
        {
          "name": "stdout",
          "output_type": "stream",
          "text": [
            "Victor J. has not enrolled in any course.\n",
            "Victor J. has enrolled to Python.\n",
            "Victor J. has enrolled in: Python\n"
          ]
        }
      ],
      "source": [
        "#show victor's enrolled course\n",
        "victor.describe()\n",
        "\n",
        "#enroll victor into python course\n",
        "victor.enroll(Python_course)\n",
        "victor.describe()"
      ]
    },
    {
      "cell_type": "code",
      "execution_count": 88,
      "id": "6acb759f",
      "metadata": {},
      "outputs": [
        {
          "name": "stdout",
          "output_type": "stream",
          "text": [
            "Sassine H. has enrolled to Python.\n",
            "Sassine H. has enrolled to Artificial Intelligence.\n",
            "Sassine H. has enrolled in: Python, Artificial Intelligence\n"
          ]
        }
      ],
      "source": [
        "#enroll sassine into python and AI course\n",
        "sassine.enroll(Python_course)\n",
        "sassine.enroll(AI_course)\n",
        "sassine.describe()"
      ]
    },
    {
      "cell_type": "markdown",
      "id": "5c54b2fe-691f-4520-b8d6-2515ba92b808",
      "metadata": {
        "editable": true,
        "id": "5c54b2fe-691f-4520-b8d6-2515ba92b808",
        "tags": []
      },
      "source": [
        "<div class=\"alert alert-block alert-info\">\n",
        "<b>Exercise 3: Design a central class registration system</b> \n",
        "\n",
        "Create a central class that manages courses and students, **Registration** class, with a list of students and a list of courses\n",
        "\n",
        "Methods to be implemented:\n",
        "* Enroll in a course.\n",
        "* Drop a course.\n",
        "* Show all the enrolled courses.\n",
        "* Show all the students.\n",
        "\n",
        "</div>"
      ]
    },
    {
      "cell_type": "code",
      "execution_count": 89,
      "id": "863f30c7-3cf8-4ac9-8599-e7df8e0d483c",
      "metadata": {
        "editable": true,
        "id": "863f30c7-3cf8-4ac9-8599-e7df8e0d483c",
        "tags": []
      },
      "outputs": [],
      "source": [
        "class Registrar:\n",
        "    def __init__(self):\n",
        "        self.studentls = []\n",
        "        self.coursels = []\n",
        "    \n",
        "    def add_student(self, student):\n",
        "        self.studentls.append(student)\n",
        "        print(f\"{student.name} has been added to the system.\")\n",
        "\n",
        "    def remove_student(self, student): \n",
        "        if student in self.studentls:\n",
        "            self.studentls.remove(student)\n",
        "            print(f\"{student.name} has been removed from the system.\")\n",
        "    \n",
        "    def add_course(self, course):\n",
        "        self.coursels.append(course)\n",
        "        print(f\"Course {course.name} has been added.\")\n",
        "\n",
        "    def drop_course(self, course):\n",
        "        if course in self.coursels:\n",
        "            self.coursels.remove(course)\n",
        "            print(f\"{course.name} has been dropped.\")\n",
        "    \n",
        "    def describe_course(self):\n",
        "        print(\"Course(s): \"+\", \".join([i.name for i in self.coursels]))\n",
        "\n",
        "    def describe_student(self):\n",
        "        print(\"Student(s): \"+ \", \".join([i.name for i in self.studentls]))"
      ]
    },
    {
      "cell_type": "code",
      "execution_count": 90,
      "id": "716beb2b",
      "metadata": {},
      "outputs": [
        {
          "name": "stdout",
          "output_type": "stream",
          "text": [
            "Course Artificial Intelligence has been added.\n",
            "Course Python has been added.\n",
            "Course(s): Artificial Intelligence, Python\n"
          ]
        }
      ],
      "source": [
        "Register = Registrar()\n",
        "\n",
        "#add courses into register\n",
        "Register.add_course(AI_course)\n",
        "Register.add_course(Python_course)\n",
        "Register.describe_course()"
      ]
    },
    {
      "cell_type": "code",
      "execution_count": 91,
      "id": "c6673052",
      "metadata": {},
      "outputs": [
        {
          "name": "stdout",
          "output_type": "stream",
          "text": [
            "Python has been dropped.\n",
            "Course(s): Artificial Intelligence\n"
          ]
        }
      ],
      "source": [
        "#remove python course from register\n",
        "Register.drop_course(Python_course)\n",
        "Register.describe_course()"
      ]
    },
    {
      "cell_type": "code",
      "execution_count": 92,
      "id": "91f54912",
      "metadata": {},
      "outputs": [
        {
          "name": "stdout",
          "output_type": "stream",
          "text": [
            "Victor J. has been added to the system.\n",
            "Julia L. has been added to the system.\n",
            "Kevin P. has been added to the system.\n",
            "Student(s): Victor J., Julia L., Kevin P.\n"
          ]
        }
      ],
      "source": [
        "#add students into register\n",
        "Register.add_student(victor)\n",
        "Register.add_student(julia)\n",
        "Register.add_student(kevin)\n",
        "Register.describe_student()"
      ]
    },
    {
      "cell_type": "code",
      "execution_count": 93,
      "id": "ed6927e6",
      "metadata": {},
      "outputs": [
        {
          "name": "stdout",
          "output_type": "stream",
          "text": [
            "Julia L. has been removed from the system.\n",
            "Kevin P. has been removed from the system.\n",
            "Student(s): Victor J.\n"
          ]
        }
      ],
      "source": [
        "#remove students from register\n",
        "Register.remove_student(julia)\n",
        "Register.remove_student(kevin)\n",
        "Register.describe_student()"
      ]
    },
    {
      "cell_type": "markdown",
      "id": "2958b01b-3472-4c95-ae1f-771edc638749",
      "metadata": {
        "editable": true,
        "id": "2958b01b-3472-4c95-ae1f-771edc638749",
        "tags": []
      },
      "source": [
        "<div class=\"alert alert-block alert-info\">\n",
        "<b>Exercise 4: Design grades registration system</b> \n",
        "\n",
        "Add grades to each student's course and create method that yields the GPA given a student name or ID\n",
        "\n",
        "</div>\n"
      ]
    },
    {
      "cell_type": "code",
      "execution_count": 94,
      "id": "f59c8e97",
      "metadata": {},
      "outputs": [],
      "source": [
        "studentname_id = {}  #dictionary with IDs as keys and student names as values\n",
        "\n",
        "class Student_grade(Student, Course):   #Student_grade class inherits Student class and Course class\n",
        "    def __init__(self, name, student_id):\n",
        "        super().__init__(name, student_id)\n",
        "        self.grades = {}\n",
        "        studentname_id[self.student_id] = self    #add ID key and student name value into studentname_id dictionary\n",
        "\n",
        "    def assign_grades(self, course, grade):\n",
        "        if course in self.coursels:\n",
        "            self.grades[course.name] = grade\n",
        "            print(f\"{self.name} received {grade} in {course.name}.\")\n",
        "        else:\n",
        "            print(f\"{self.name} is not in {course.name}.\")\n",
        "\n",
        "    def gpa_by_name(self):    #calculate gpa by finding average grade\n",
        "        if not self.grades:\n",
        "            print(f\"{self.name}'s GPA is unavailable\")\n",
        "            return\n",
        "        gpa = 0.0\n",
        "        for i in self.grades:\n",
        "            gpa = gpa + self.grades[i]\n",
        "        gpa = gpa/len(self.grades)\n",
        "        print(f\"{self.name}'s GPA is \" + str(round(gpa, 2)))\n",
        "        \n",
        "def gpa_by_id(student_id):     #find student name with ID\n",
        "    student_name = studentname_id[student_id] \n",
        "    student_name.gpa_by_name()"
      ]
    },
    {
      "cell_type": "code",
      "execution_count": 95,
      "id": "97c61c8b",
      "metadata": {},
      "outputs": [],
      "source": [
        "#create student_grade objects\n",
        "victor = Student_grade(\"Victor J.\", 100)\n",
        "julia = Student_grade(\"Julia L.\", 101)\n",
        "sassine = Student_grade(\"Sassine H.\", 102)\n",
        "kevin = Student_grade(\"Kevin P.\", 103)\n"
      ]
    },
    {
      "cell_type": "code",
      "execution_count": 96,
      "id": "39ef9c52",
      "metadata": {},
      "outputs": [
        {
          "name": "stdout",
          "output_type": "stream",
          "text": [
            "Victor J. has enrolled to Python.\n",
            "Victor J. has enrolled to Artificial Intelligence.\n",
            "Julia L. has enrolled to Python.\n",
            "Julia L. has enrolled to Artificial Intelligence.\n",
            "Sassine H. has enrolled to Python.\n"
          ]
        }
      ],
      "source": [
        "victor.enroll(Python_course)\n",
        "victor.enroll(AI_course)\n",
        "\n",
        "julia.enroll(Python_course)\n",
        "julia.enroll(AI_course)\n",
        "\n",
        "sassine.enroll(Python_course)"
      ]
    },
    {
      "cell_type": "code",
      "execution_count": 97,
      "id": "c8b8840c",
      "metadata": {},
      "outputs": [
        {
          "name": "stdout",
          "output_type": "stream",
          "text": [
            "Victor J. received 10.0 in Python.\n",
            "Victor J. received 6.0 in Artificial Intelligence.\n",
            "Julia L. received 8.0 in Python.\n",
            "Julia L. received 9.0 in Artificial Intelligence.\n",
            "Sassine H. received 10.0 in Python.\n",
            "Sassine H. is not in Artificial Intelligence.\n"
          ]
        }
      ],
      "source": [
        "victor.assign_grades(Python_course, 10.0)\n",
        "victor.assign_grades(AI_course, 6.0)\n",
        "\n",
        "julia.assign_grades(Python_course, 8.0)\n",
        "julia.assign_grades(AI_course, 9.0)\n",
        "\n",
        "sassine.assign_grades(Python_course, 10.0)\n",
        "sassine.assign_grades(AI_course, 8.0)\n"
      ]
    },
    {
      "cell_type": "code",
      "execution_count": 98,
      "id": "d34a4aa5",
      "metadata": {},
      "outputs": [
        {
          "name": "stdout",
          "output_type": "stream",
          "text": [
            "Victor J.'s GPA is 8.0\n",
            "Julia L.'s GPA is 8.5\n",
            "Sassine H.'s GPA is 10.0\n",
            "Kevin P.'s GPA is unavailable\n"
          ]
        }
      ],
      "source": [
        "victor.gpa_by_name()\n",
        "julia.gpa_by_name()\n",
        "sassine.gpa_by_name()\n",
        "kevin.gpa_by_name()"
      ]
    },
    {
      "cell_type": "code",
      "execution_count": 99,
      "id": "d7f0858a",
      "metadata": {},
      "outputs": [
        {
          "name": "stdout",
          "output_type": "stream",
          "text": [
            "Victor J.'s GPA is 8.0\n",
            "Julia L.'s GPA is 8.5\n",
            "Sassine H.'s GPA is 10.0\n",
            "Kevin P.'s GPA is unavailable\n"
          ]
        }
      ],
      "source": [
        "gpa_by_id(100)\n",
        "gpa_by_id(101)\n",
        "gpa_by_id(102)\n",
        "gpa_by_id(103)"
      ]
    }
  ],
  "metadata": {
    "colab": {
      "provenance": []
    },
    "kernelspec": {
      "display_name": "Python 3",
      "language": "python",
      "name": "python3"
    },
    "language_info": {
      "codemirror_mode": {
        "name": "ipython",
        "version": 3
      },
      "file_extension": ".py",
      "mimetype": "text/x-python",
      "name": "python",
      "nbconvert_exporter": "python",
      "pygments_lexer": "ipython3",
      "version": "3.10.15"
    }
  },
  "nbformat": 4,
  "nbformat_minor": 5
}
